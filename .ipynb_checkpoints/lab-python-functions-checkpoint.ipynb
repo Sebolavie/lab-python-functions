{
 "cells": [
  {
   "cell_type": "markdown",
   "id": "25d7736c-ba17-4aff-b6bb-66eba20fbf4e",
   "metadata": {},
   "source": [
    "# Lab | Functions"
   ]
  },
  {
   "cell_type": "code",
   "execution_count": 14,
   "id": "62b93800-f7be-4f8b-853c-5b562a28da81",
   "metadata": {},
   "outputs": [],
   "source": [
    "#Define a function named initialize_inventory that takes products as a parameter. Inside the function, implement the \n",
    "#code for initializing the inventory dictionary using a loop and user input.\n",
    "products= [\"t-shirt\", \"mug\", \"hat\", \"book\", \"keychain\"]\n",
    "\n",
    "inventory={}\n",
    "def initialize_inventory(products):\n",
    "    for i in products:\n",
    "        quantity=int(input(f\"enter the quantity for {i}\"))\n",
    "        inventory[i]=quantity\n",
    "    return inventory "
   ]
  },
  {
   "cell_type": "code",
   "execution_count": null,
   "id": "d6100e54-c367-4490-a077-e21c99002fce",
   "metadata": {},
   "outputs": [],
   "source": [
    "def get_customer_orders():\n",
    "    customer_orders = set()\n",
    "    additional_order = \"y\"\n",
    "    \n",
    "    while additional_order == \"y\":\n",
    "        new_product = input(\"What do you want to buy? \")\n",
    "        customer_orders.add(new_product)\n",
    "        additional_order = input(\"Want to add more? Y/N \").lower()\n",
    "    \n",
    "    return customer_orders\n"
   ]
  },
  {
   "cell_type": "code",
   "execution_count": 29,
   "id": "2dbc59c2-c565-4ce2-8ea8-072e7e3c0adf",
   "metadata": {},
   "outputs": [],
   "source": [
    "def get_customer_orders():\n",
    "    customer_orders=set()\n",
    "    additional_order=\"y\"\n",
    "    \n",
    "    while additional_order==\"y\":\n",
    "        new_product=input(\"what do you want to buy?\")\n",
    "        customer_orders.add(new_product)\n",
    "        additional_order=input(\"want to add more? Y/N\").lower()\n",
    "    return customer_orders"
   ]
  },
  {
   "cell_type": "code",
   "execution_count": 30,
   "id": "3afefeec-5fef-4a86-b043-b9cb7cdf8861",
   "metadata": {},
   "outputs": [],
   "source": [
    "def update_inventory(customer_orders, inventory):\n",
    "    for item in customer_orders:\n",
    "        if item in inventory:\n",
    "            inventory[item] -= 1\n",
    "    return inventory"
   ]
  },
  {
   "cell_type": "code",
   "execution_count": 31,
   "id": "7f667fe8-a859-4d8a-9351-7fbe731aa06d",
   "metadata": {},
   "outputs": [],
   "source": [
    "def calculate_order_statistics(customer_orders, products):\n",
    "    total_products_ordered=len(customer_orders)\n",
    "    unique_products_ordered=len(set(customer_orders))\n",
    "    \n",
    "    if len (products)>0:\n",
    "        percentage_unique_products_ordered = (unique_products_ordered / len(products)) * 100\n",
    "    else:\n",
    "        percentage_unique_products_ordered = 0\n",
    "    \n",
    "    return total_products_ordered, percentage_unique_products_ordered\n",
    "    "
   ]
  },
  {
   "cell_type": "code",
   "execution_count": 32,
   "id": "8238aeeb-99e6-412c-a461-1cf56f1f0b59",
   "metadata": {},
   "outputs": [],
   "source": [
    "##Inside the function, implement the code for printing the order statistics.\n",
    "def print_order_statistics(order_statistics):\n",
    "    total_products_ordered, percentage_unique_products_ordered = order_statistics\n",
    "    print(\"Total products ordered:\", total_products_ordered)\n",
    "    print(\"Percentage of unique products ordered:\", percentage_unique_products_ordered)\n"
   ]
  },
  {
   "cell_type": "code",
   "execution_count": 33,
   "id": "a774b6f6-ae39-43ce-b44f-c07c72e9d0d2",
   "metadata": {},
   "outputs": [],
   "source": [
    "#Define a function named print_updated_inventory that takes inventory as a parameter. \n",
    "#Inside the function, implement the code for printing the updated inventory.\n",
    "\n",
    "def print_updated_inventory(inventory):\n",
    "    print (\"the updated inventory is:\")\n",
    "    for items, quantity in inventory.items():\n",
    "        print(f\"{item}: {quantity}\")\n"
   ]
  },
  {
   "cell_type": "code",
   "execution_count": 34,
   "id": "0d91bdb4-95db-4002-91fc-1aa6de4e2d41",
   "metadata": {},
   "outputs": [
    {
     "name": "stdin",
     "output_type": "stream",
     "text": [
      "enter the quantity for t-shirt 12\n",
      "enter the quantity for mug 3\n",
      "enter the quantity for hat 4\n",
      "enter the quantity for book 45\n",
      "enter the quantity for keychain 5\n",
      "what do you want to buy? 6\n",
      "want to add more? Y/N n\n"
     ]
    },
    {
     "ename": "NameError",
     "evalue": "name 'customer_orders' is not defined",
     "output_type": "error",
     "traceback": [
      "\u001b[0;31m---------------------------------------------------------------------------\u001b[0m",
      "\u001b[0;31mNameError\u001b[0m                                 Traceback (most recent call last)",
      "Cell \u001b[0;32mIn[34], line 4\u001b[0m\n\u001b[1;32m      2\u001b[0m initialize_inventory(products)\n\u001b[1;32m      3\u001b[0m get_customer_orders()\n\u001b[0;32m----> 4\u001b[0m update_inventory(customer_orders, inventory)\n\u001b[1;32m      5\u001b[0m calculate_order_statistics(customer_orders, products)\n\u001b[1;32m      6\u001b[0m print_order_statistics(order_statistics)\n",
      "\u001b[0;31mNameError\u001b[0m: name 'customer_orders' is not defined"
     ]
    }
   ],
   "source": [
    "#Call the functions in the appropriate sequence to execute the program and manage customer orders.\n",
    "initialize_inventory(products)\n",
    "get_customer_orders()\n",
    "update_inventory(customer_orders, inventory)\n",
    "calculate_order_statistics(customer_orders, products)\n",
    "print_order_statistics(order_statistics)\n",
    "print_updated_inventory(inventory)\n",
    "\n"
   ]
  },
  {
   "cell_type": "markdown",
   "id": "0c581062-8967-4d93-b06e-62833222f930",
   "metadata": {
    "tags": []
   },
   "source": [
    "## Exercise: Managing Customer Orders with Functions\n",
    "\n",
    "In the previous exercise, you improved the code for managing customer orders by using loops and flow control. Now, let's take it a step further and refactor the code by introducing functions.\n",
    "\n",
    "Follow the steps below to complete the exercise:\n",
    "\n",
    "1. Define a function named `initialize_inventory` that takes `products` as a parameter. Inside the function, implement the code for initializing the inventory dictionary using a loop and user input.\n",
    "\n",
    "2. Define a function named `get_customer_orders` that takes no parameters. Inside the function, implement the code for prompting the user to enter the product names using a loop. The function should return the `customer_orders` set.\n",
    "\n",
    "3. Define a function named `update_inventory` that takes `customer_orders` and `inventory` as parameters. Inside the function, implement the code for updating the inventory dictionary based on the customer orders.\n",
    "\n",
    "4. Define a function named `calculate_order_statistics` that takes `customer_orders` and `products` as parameters. Inside the function, implement the code for calculating the order statistics (total products ordered, and percentage of unique products ordered). The function should return these values.\n",
    "\n",
    "5. Define a function named `print_order_statistics` that takes `order_statistics` as a parameter. Inside the function, implement the code for printing the order statistics.\n",
    "\n",
    "6. Define a function named `print_updated_inventory` that takes `inventory` as a parameter. Inside the function, implement the code for printing the updated inventory.\n",
    "\n",
    "7. Call the functions in the appropriate sequence to execute the program and manage customer orders.\n",
    "\n",
    "Hints for functions:\n",
    "\n",
    "- Consider the input parameters required for each function and their return values.\n",
    "- Utilize function parameters and return values to transfer data between functions.\n",
    "- Test your functions individually to ensure they work correctly.\n",
    "\n",
    "\n"
   ]
  },
  {
   "cell_type": "code",
   "execution_count": null,
   "id": "152ccebd-89b6-49e9-b253-53531bce60a6",
   "metadata": {},
   "outputs": [],
   "source": []
  }
 ],
 "metadata": {
  "kernelspec": {
   "display_name": "Python 3 (ipykernel)",
   "language": "python",
   "name": "python3"
  },
  "language_info": {
   "codemirror_mode": {
    "name": "ipython",
    "version": 3
   },
   "file_extension": ".py",
   "mimetype": "text/x-python",
   "name": "python",
   "nbconvert_exporter": "python",
   "pygments_lexer": "ipython3",
   "version": "3.11.7"
  }
 },
 "nbformat": 4,
 "nbformat_minor": 5
}
